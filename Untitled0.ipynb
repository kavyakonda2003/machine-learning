{
  "nbformat": 4,
  "nbformat_minor": 0,
  "metadata": {
    "colab": {
      "provenance": [],
      "authorship_tag": "ABX9TyMNLy8lH2nFrvz+t8oEubtw",
      "include_colab_link": true
    },
    "kernelspec": {
      "name": "python3",
      "display_name": "Python 3"
    },
    "language_info": {
      "name": "python"
    }
  },
  "cells": [
    {
      "cell_type": "markdown",
      "metadata": {
        "id": "view-in-github",
        "colab_type": "text"
      },
      "source": [
        "<a href=\"https://colab.research.google.com/github/kavyakonda2003/machine-learning/blob/main/Untitled0.ipynb\" target=\"_parent\"><img src=\"https://colab.research.google.com/assets/colab-badge.svg\" alt=\"Open In Colab\"/></a>"
      ]
    },
    {
      "cell_type": "code",
      "execution_count": 18,
      "metadata": {
        "colab": {
          "base_uri": "https://localhost:8080/"
        },
        "id": "Wo0GSAoUSIth",
        "outputId": "f96e991f-2367-4b1f-9768-9b35ecf8dba5"
      },
      "outputs": [
        {
          "output_type": "stream",
          "name": "stdout",
          "text": [
            "n The final hypothesis is: ['sunny' 'warm' '?' 'strong' '?' '?']\n"
          ]
        }
      ],
      "source": [
        "import pandas as pd\n",
        "import numpy as np\n",
        "data=pd.read_csv(\"/content/data.csv\")\n",
        "data\n",
        "concept=np.array(data)[:,:-1]\n",
        "concept\n",
        "target=np.array(data)[:,-1]\n",
        "target\n",
        "def train(con,tar):\n",
        "  for i,val in enumerate(tar):\n",
        "    if val=='yes':\n",
        "      specific_h=con[i].copy()\n",
        "      break\n",
        "  for i,val in enumerate(con):\n",
        "        if tar[i]=='yes':\n",
        "          for x in range(len(specific_h)):\n",
        "            if val[x]!=specific_h[x]:\n",
        "               specific_h[x]='?'\n",
        "            else:\n",
        "              pass\n",
        "  return specific_h\n",
        "print(\"n The final hypothesis is:\",train(concept,target))\n"
      ]
    }
  ]
}